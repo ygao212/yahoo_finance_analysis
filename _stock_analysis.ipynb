{
 "cells": [
  {
   "cell_type": "code",
   "execution_count": 16,
   "metadata": {
    "collapsed": false
   },
   "outputs": [
    {
     "name": "stderr",
     "output_type": "stream",
     "text": [
      "INFO:requests.packages.urllib3.connectionpool:Starting new HTTP connection (1): ichart.finance.yahoo.com\n",
      "INFO:bokeh.core.state:Session output file '_output.html' already exists, will be overwritten.\n",
      "ERROR:c:\\nero\\python35\\lib\\site-packages\\bokeh\\core\\validation\\check.py:E-1000 (COLUMN_LENGTHS): ColumnDataSource column lengths are not all the same: ColumnDataSource, ViewModel:ColumnDataSource, ref _id: 2eefb2a0-1783-4f34-b64d-1b4bdfe65d78\n",
      "ERROR:c:\\nero\\python35\\lib\\site-packages\\bokeh\\core\\validation\\check.py:E-1000 (COLUMN_LENGTHS): ColumnDataSource column lengths are not all the same: ColumnDataSource, ViewModel:ColumnDataSource, ref _id: 3e65f35f-0ba1-4e10-8da8-1e8a5979a52a\n",
      "ERROR:c:\\nero\\python35\\lib\\site-packages\\bokeh\\core\\validation\\check.py:E-1000 (COLUMN_LENGTHS): ColumnDataSource column lengths are not all the same: ColumnDataSource, ViewModel:ColumnDataSource, ref _id: 16cb8d42-b996-4686-970a-dc633df11f05\n",
      "ERROR:c:\\nero\\python35\\lib\\site-packages\\bokeh\\core\\validation\\check.py:E-1000 (COLUMN_LENGTHS): ColumnDataSource column lengths are not all the same: ColumnDataSource, ViewModel:ColumnDataSource, ref _id: e9ceeaab-4a22-4d64-b988-f3db7d3526e3\n",
      "ERROR:c:\\nero\\python35\\lib\\site-packages\\bokeh\\core\\validation\\check.py:E-1000 (COLUMN_LENGTHS): ColumnDataSource column lengths are not all the same: ColumnDataSource, ViewModel:ColumnDataSource, ref _id: 77ffc984-728a-4d65-920c-79506cb6ffe6\n",
      "ERROR:c:\\nero\\python35\\lib\\site-packages\\bokeh\\core\\validation\\check.py:E-1000 (COLUMN_LENGTHS): ColumnDataSource column lengths are not all the same: ColumnDataSource, ViewModel:ColumnDataSource, ref _id: d87c36f3-ac1b-4d82-8b78-440f1610108f\n",
      "ERROR:c:\\nero\\python35\\lib\\site-packages\\bokeh\\core\\validation\\check.py:E-1000 (COLUMN_LENGTHS): ColumnDataSource column lengths are not all the same: ColumnDataSource, ViewModel:ColumnDataSource, ref _id: 03326b54-2524-40a7-a01b-8090b3c59ea0\n",
      "ERROR:c:\\nero\\python35\\lib\\site-packages\\bokeh\\core\\validation\\check.py:E-1000 (COLUMN_LENGTHS): ColumnDataSource column lengths are not all the same: ColumnDataSource, ViewModel:ColumnDataSource, ref _id: db37a0cc-ebcb-4f99-aba0-24b9f1489389\n",
      "ERROR:c:\\nero\\python35\\lib\\site-packages\\bokeh\\core\\validation\\check.py:E-1000 (COLUMN_LENGTHS): ColumnDataSource column lengths are not all the same: ColumnDataSource, ViewModel:ColumnDataSource, ref _id: 025712a8-ff1f-4fa6-8ad4-ec24ef25f033\n",
      "ERROR:c:\\nero\\python35\\lib\\site-packages\\bokeh\\core\\validation\\check.py:E-1000 (COLUMN_LENGTHS): ColumnDataSource column lengths are not all the same: ColumnDataSource, ViewModel:ColumnDataSource, ref _id: b3ed1e9c-b3a8-4143-8c70-8e53e75f2765\n",
      "ERROR:c:\\nero\\python35\\lib\\site-packages\\bokeh\\core\\validation\\check.py:E-1000 (COLUMN_LENGTHS): ColumnDataSource column lengths are not all the same: ColumnDataSource, ViewModel:ColumnDataSource, ref _id: 1773bc16-59f0-436d-87f1-a089e0dbd151\n",
      "ERROR:c:\\nero\\python35\\lib\\site-packages\\bokeh\\core\\validation\\check.py:E-1000 (COLUMN_LENGTHS): ColumnDataSource column lengths are not all the same: ColumnDataSource, ViewModel:ColumnDataSource, ref _id: 861134a0-dd7b-4c57-9573-a582628204a6\n"
     ]
    }
   ],
   "source": [
    "from pandas_datareader import data\n",
    "import datetime\n",
    "from bokeh.plotting import figure, show, output_file\n",
    "from bokeh.models import HoverTool, ColumnDataSource\n",
    "\n",
    "# get Apple stock data of last week from yahoo\n",
    "start = datetime.datetime(2016,1,13)\n",
    "end = datetime.datetime(2016,9,13)\n",
    "df = data.DataReader(name=\"AAPL\", data_source=\"yahoo\", start=start, end=end)\n",
    "\n",
    "# create itermediate variables status, middle and height\n",
    "def inc_dec(close, open):\n",
    "    if close >= open:\n",
    "        value = \"Increase\"\n",
    "    else:\n",
    "        value = \"Decrease\"\n",
    "    return value\n",
    "\n",
    "df[\"Status\"] = [inc_dec(close, open) for close, open in zip(df.Close, df.Open)]\n",
    "df[\"Middle\"] = (df.Open + df.Close)/2\n",
    "df[\"Height\"] = abs(df.Open - df.Close)\n",
    "\n",
    "# create figure\n",
    "cds = ColumnDataSource(df)\n",
    "cds_increase = ColumnDataSource(df[df.Status == \"Increase\"])\n",
    "cds_decrease = ColumnDataSource(df[df.Status == \"Decrease\"])\n",
    "\n",
    "p = figure(x_axis_type=\"datetime\", height=300, responsive = True)\n",
    "p.title.text = (\"Apple Stock Candlestick Chart\")\n",
    "p.title.text_font_size = \"20pt\"\n",
    "p.yaxis.axis_label = \"Price\"\n",
    "p.xaxis.axis_label = \"Date\"\n",
    "p.grid.grid_line_alpha = 0.3\n",
    "\n",
    "#draw elements\n",
    "hours_12 = 12*60*60*1000\n",
    "\n",
    "p.segment(df.index, df.High, df.index, df.Low, color=\"Black\", source = cds)\n",
    "p.rect(df.index[df.Status==\"Increase\"], df.Middle[df.Status==\"Increase\"], hours_12, df[\"Height\"], \n",
    "       fill_color=\"#90EE90\", line_color=\"black\", source = cds_increase)\n",
    "p.rect(df.index[df.Status==\"Decrease\"], df.Middle[df.Status==\"Decrease\"], hours_12, df[\"Height\"], \n",
    "       fill_color=\"#FFB6C1\", line_color=\"black\", source = cds_decrease)\n",
    "p.line(df.index, df[\"Adj Close\"], source = cds)\n",
    "\n",
    "\n",
    "# add hover tools\n",
    "hover = HoverTool(tooltips = [\n",
    "                            (\"Open\", \"@Open\"),\n",
    "                            (\"Close\", \"@Close\"),\n",
    "                            (\"High\", \"@High\"), \n",
    "                            (\"Low\", \"@Low\"),\n",
    "                            ])\n",
    "p.add_tools(hover)\n",
    "\n",
    "# output\n",
    "output_file(\"_output.html\")\n",
    "show(p)"
   ]
  },
  {
   "cell_type": "code",
   "execution_count": null,
   "metadata": {
    "collapsed": true
   },
   "outputs": [],
   "source": []
  }
 ],
 "metadata": {
  "kernelspec": {
   "display_name": "Python 3",
   "language": "python",
   "name": "python3"
  },
  "language_info": {
   "codemirror_mode": {
    "name": "ipython",
    "version": 3
   },
   "file_extension": ".py",
   "mimetype": "text/x-python",
   "name": "python",
   "nbconvert_exporter": "python",
   "pygments_lexer": "ipython3",
   "version": "3.5.1"
  }
 },
 "nbformat": 4,
 "nbformat_minor": 1
}
